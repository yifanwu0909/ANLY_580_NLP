{
 "cells": [
  {
   "cell_type": "code",
   "execution_count": 12,
   "metadata": {
    "collapsed": true
   },
   "outputs": [],
   "source": [
    "import numpy as np"
   ]
  },
  {
   "cell_type": "code",
   "execution_count": 5,
   "metadata": {},
   "outputs": [],
   "source": [
    "from gensim.models import KeyedVectors\n",
    "vecfile = 'GoogleNews-vectors-negative300.bin.gz'\n",
    "vecs = KeyedVectors.load_word2vec_format(vecfile, binary=True)"
   ]
  },
  {
   "cell_type": "code",
   "execution_count": 14,
   "metadata": {},
   "outputs": [
    {
     "data": {
      "text/plain": [
       "300"
      ]
     },
     "execution_count": 14,
     "metadata": {},
     "output_type": "execute_result"
    }
   ],
   "source": [
    "vecs.vector_size"
   ]
  },
  {
   "cell_type": "code",
   "execution_count": 16,
   "metadata": {},
   "outputs": [
    {
     "data": {
      "text/plain": [
       "(3000000, 300)"
      ]
     },
     "execution_count": 16,
     "metadata": {},
     "output_type": "execute_result"
    }
   ],
   "source": [
    "vecs.vectors.shape"
   ]
  },
  {
   "cell_type": "code",
   "execution_count": 20,
   "metadata": {},
   "outputs": [
    {
     "data": {
      "text/plain": [
       "[('picnics', 0.7400875687599182),\n",
       " ('picnic_lunch', 0.7213739156723022),\n",
       " ('Picnic', 0.7005339860916138),\n",
       " ('potluck_picnic', 0.6683274507522583),\n",
       " ('picnic_supper', 0.6518912315368652),\n",
       " ('picnicking', 0.6355021595954895),\n",
       " ('cookout', 0.6324349641799927),\n",
       " ('Hiking_biking_camping', 0.6256069540977478),\n",
       " ('barbeque', 0.6225628852844238),\n",
       " ('barbecue', 0.6195758581161499)]"
      ]
     },
     "execution_count": 20,
     "metadata": {},
     "output_type": "execute_result"
    }
   ],
   "source": [
    "vecs.most_similar('picnic')"
   ]
  },
  {
   "cell_type": "code",
   "execution_count": 21,
   "metadata": {},
   "outputs": [
    {
     "data": {
      "text/plain": [
       "'tissue'"
      ]
     },
     "execution_count": 21,
     "metadata": {},
     "output_type": "execute_result"
    }
   ],
   "source": [
    "vecs.doesnt_match(['tissue', 'papyrus', 'manila', 'newsprint', 'parchment', 'gazette'])"
   ]
  },
  {
   "cell_type": "code",
   "execution_count": 28,
   "metadata": {},
   "outputs": [
    {
     "data": {
      "text/plain": [
       "[('forearm', 0.4829464852809906),\n",
       " ('shin', 0.4737617075443268),\n",
       " ('elbow', 0.4679689109325409),\n",
       " ('metacarpal_bone', 0.46781477332115173),\n",
       " ('metacarpal_bones', 0.46605822443962097),\n",
       " ('ankle', 0.4643442928791046),\n",
       " ('shoulder', 0.46183353662490845),\n",
       " ('thigh', 0.4539368748664856),\n",
       " ('knee', 0.44557076692581177),\n",
       " ('ulna_bone', 0.44234904646873474)]"
      ]
     },
     "execution_count": 28,
     "metadata": {},
     "output_type": "execute_result"
    }
   ],
   "source": [
    "vecs.most_similar(positive=['leg', 'throw'], negative=['jump'])"
   ]
  },
  {
   "cell_type": "code",
   "execution_count": null,
   "metadata": {
    "collapsed": true
   },
   "outputs": [],
   "source": []
  }
 ],
 "metadata": {
  "kernelspec": {
   "display_name": "Python 3",
   "language": "python",
   "name": "python3"
  },
  "language_info": {
   "codemirror_mode": {
    "name": "ipython",
    "version": 3
   },
   "file_extension": ".py",
   "mimetype": "text/x-python",
   "name": "python",
   "nbconvert_exporter": "python",
   "pygments_lexer": "ipython3",
   "version": "3.5.6"
  }
 },
 "nbformat": 4,
 "nbformat_minor": 2
}
