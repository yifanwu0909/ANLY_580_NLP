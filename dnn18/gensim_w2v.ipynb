{
 "cells": [
  {
   "cell_type": "code",
   "execution_count": 1,
   "metadata": {
    "collapsed": true
   },
   "outputs": [],
   "source": [
    "from gensim.models import Word2Vec\n",
    "from gensim.models import KeyedVectors\n",
    "import numpy as np"
   ]
  },
  {
   "cell_type": "code",
   "execution_count": 2,
   "metadata": {
    "collapsed": true
   },
   "outputs": [],
   "source": [
    "# original GoogleNews file is 3.5 GB... just get the top 100k (most frequent words)\n",
    "#w2v_bin = \"/Users/elizabethmerkhofer/Downloads/GoogleNews-vectors-negative300.bin\"\n",
    "#model = KeyedVectors.load_word2vec_format(w2v_bin, binary=True, limit=100000)\n",
    "#model.save_word2vec_format('GoogleNews-vectors-negative300-first100k', binary=True)"
   ]
  },
  {
   "cell_type": "code",
   "execution_count": 3,
   "metadata": {
    "collapsed": true
   },
   "outputs": [],
   "source": [
    "#load pretrained vectors from a binary format produced by w2v\n",
    "model = KeyedVectors.load_word2vec_format('GoogleNews-vectors-negative300-first100k.bin', binary=True)"
   ]
  },
  {
   "cell_type": "code",
   "execution_count": 4,
   "metadata": {},
   "outputs": [
    {
     "data": {
      "text/plain": [
       "[('queen', 0.7118192911148071)]"
      ]
     },
     "execution_count": 4,
     "metadata": {},
     "output_type": "execute_result"
    }
   ],
   "source": [
    "model.most_similar(positive=['woman', 'king'], negative=['man'], topn=1)"
   ]
  },
  {
   "cell_type": "code",
   "execution_count": 5,
   "metadata": {},
   "outputs": [
    {
     "data": {
      "text/plain": [
       "'cereal'"
      ]
     },
     "execution_count": 5,
     "metadata": {},
     "output_type": "execute_result"
    }
   ],
   "source": [
    "model.doesnt_match(\"breakfast cereal dinner lunch\".split())"
   ]
  },
  {
   "cell_type": "code",
   "execution_count": 6,
   "metadata": {},
   "outputs": [
    {
     "data": {
      "text/plain": [
       "0.7664012230995352"
      ]
     },
     "execution_count": 6,
     "metadata": {},
     "output_type": "execute_result"
    }
   ],
   "source": [
    "#cosine similarity\n",
    "model.similarity('woman', 'man')"
   ]
  },
  {
   "cell_type": "code",
   "execution_count": 7,
   "metadata": {},
   "outputs": [
    {
     "name": "stdout",
     "output_type": "stream",
     "text": [
      "(300,)\n",
      "[ 0.14648438 -0.06347656 -0.19042969 -0.07617188  0.03295898 -0.06079102\n",
      " -0.22167969 -0.19042969 -0.14648438 -0.18261719 -0.0222168  -0.24414062\n",
      "  0.03540039  0.19140625  0.12792969  0.11035156  0.34960938  0.09716797\n",
      "  0.02197266  0.09326172]\n"
     ]
    }
   ],
   "source": [
    "# you can also access inidividual vectors\n",
    "\n",
    "eliz_vec = model['Elizabeth']\n",
    "print(eliz_vec.shape)\n",
    "print(eliz_vec[:20])"
   ]
  },
  {
   "cell_type": "code",
   "execution_count": 8,
   "metadata": {},
   "outputs": [
    {
     "data": {
      "text/plain": [
       "False"
      ]
     },
     "execution_count": 8,
     "metadata": {},
     "output_type": "execute_result"
    }
   ],
   "source": [
    "#not all words are in vocab\n",
    "'elizabeth' in model.vocab"
   ]
  },
  {
   "cell_type": "code",
   "execution_count": 9,
   "metadata": {},
   "outputs": [
    {
     "name": "stdout",
     "output_type": "stream",
     "text": [
      "<class 'numpy.ndarray'>\n",
      "(100000, 300)\n"
     ]
    }
   ],
   "source": [
    "# we can extract the weight matrix and use it elsewhere\n",
    "emb_layer = model.vectors\n",
    "print(type(emb_layer))\n",
    "print(emb_layer.shape)\n",
    "np.save('GoogleNews_100K', emb_layer)"
   ]
  },
  {
   "cell_type": "code",
   "execution_count": 10,
   "metadata": {},
   "outputs": [
    {
     "name": "stdout",
     "output_type": "stream",
     "text": [
      "['</s>', 'in', 'for', 'that', 'is', 'on', '##', 'The', 'with', 'said', 'was', 'the', 'at', 'not', 'as', 'it', 'be', 'from', 'by', 'are']\n"
     ]
    }
   ],
   "source": [
    "# record which row corresponds to which type\n",
    "ordered_vocab = model.index2word\n",
    "print(ordered_vocab[:20])\n",
    "with open(\"GoogleNews_100K_vocab.txt\", 'w') as vocab_file:\n",
    "    vocab_file.write(\"\\n\".join(ordered_vocab))"
   ]
  }
 ],
 "metadata": {
  "kernelspec": {
   "display_name": "Python 3",
   "language": "python",
   "name": "python3"
  },
  "language_info": {
   "codemirror_mode": {
    "name": "ipython",
    "version": 3
   },
   "file_extension": ".py",
   "mimetype": "text/x-python",
   "name": "python",
   "nbconvert_exporter": "python",
   "pygments_lexer": "ipython3",
   "version": "3.6.3"
  }
 },
 "nbformat": 4,
 "nbformat_minor": 2
}
