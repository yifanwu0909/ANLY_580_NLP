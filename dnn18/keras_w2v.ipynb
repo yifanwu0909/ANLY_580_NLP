{
 "cells": [
  {
   "cell_type": "code",
   "execution_count": 6,
   "metadata": {
    "collapsed": true
   },
   "outputs": [],
   "source": [
    "%matplotlib inline \n",
    "import matplotlib.pyplot as plt"
   ]
  },
  {
   "cell_type": "code",
   "execution_count": 1,
   "metadata": {
    "scrolled": false
   },
   "outputs": [
    {
     "name": "stderr",
     "output_type": "stream",
     "text": [
      "C:\\Users\\yifan\\Anaconda3\\lib\\site-packages\\h5py\\__init__.py:34: FutureWarning: Conversion of the second argument of issubdtype from `float` to `np.floating` is deprecated. In future, it will be treated as `np.float64 == np.dtype(float).type`.\n",
      "  from ._conv import register_converters as _register_converters\n",
      "Using TensorFlow backend.\n"
     ]
    }
   ],
   "source": [
    "from keras.layers import Dot, Embedding, Activation, Input, Reshape\n",
    "from keras.models import Model\n",
    "import numpy as np\n",
    "from sklearn.metrics.pairwise import cosine_similarity\n",
    "from nltk import word_tokenize"
   ]
  },
  {
   "cell_type": "markdown",
   "metadata": {},
   "source": [
    "# Understanding Word2Vec\n",
    "\n",
    "This notebook is a simplified version of word2vec. The model creates a semantic space by training a model that predicts which word appeared in the context of another word. The model won't achieve 100% accuracy - think of all the words that can appear within five words of the context \"dog\" and you'll see how it's an impossible objective. However, since words with similar meanings/grammar tend to have similar contexts, the embedding layer is a very useful semantic space.\n",
    "\n",
    "This is a self-supervised task because it doesn't require separate annotation. The \"annotation\" for a word is the words that appear around it in a large corpus.\n",
    "\n",
    "## Corpus to input\n",
    "\n",
    "Real word2vec rose to prominence in large part because of how efficient it is - how it processed as much language data within hours as previous word-embedding models processed within weeks. Training data is \"free\" - think all of Wikipedia - because the task is self-supervised.\n",
    "\n",
    "I'm using Moby Dick to show how the data is made and what the model looks like -- but that's much too small for a real, usable semantic space."
   ]
  },
  {
   "cell_type": "code",
   "execution_count": 2,
   "metadata": {},
   "outputs": [
    {
     "name": "stdout",
     "output_type": "stream",
     "text": [
      "2371 words in vocabulary.\n",
      "Most common:[',', 'the', '.', 'of', 'and', 'a', 'to', 'in', ';', 'that']\n"
     ]
    }
   ],
   "source": [
    "txt_fn = \"mobydick.txt\"\n",
    "\n",
    "# these models require a closed vocabulary\n",
    "# get word frequency from the whole corpus\n",
    "vocab_count = {}\n",
    "with open(txt_fn, 'r') as novel:\n",
    "    for line in novel:\n",
    "        tokens = word_tokenize(line.strip().lower())\n",
    "        #tokens = line.strip().lower().split() #laziest possible preprocessing\n",
    "        for t in tokens:\n",
    "            if t not in vocab_count:\n",
    "                vocab_count[t] = 0\n",
    "            vocab_count[t] += 1\n",
    "            \n",
    "# set a threshold for frequency\n",
    "min_count = 5\n",
    "vocab_count = {k:v for k,v in vocab_count.items() if v>=min_count}\n",
    "\n",
    "# typically, vocabulary is sorted with most frequent words first\n",
    "vocab_list = [k for k,v in sorted(vocab_count.items(), key=lambda x:x[1], reverse=True)]\n",
    "\n",
    "# dictionaries map strings to their indices in the list\n",
    "# these will be the rows for word embeddings in our matrix\n",
    "lookup = {word:i for i,word in enumerate(vocab_list)}\n",
    "\n",
    "vocab_size = len(vocab_list)\n",
    "print(\"{} words in vocabulary.\\nMost common:{}\".format(vocab_size, vocab_list[:10]))"
   ]
  },
  {
   "cell_type": "markdown",
   "metadata": {},
   "source": [
    "## Unigram (one word) corpus probabilities\n",
    "\n",
    "The most frequent words of language are extremely frequent. We don't need to train the embedding for \"the\" 234x as much as the embedding for \"fish.\" Here, we make sampling probabilities using some code from the gensim implementation of word2vec. The frequency ranks are preserved (\"the\" is still more important than \"fish\"), but the curve is reduced."
   ]
  },
  {
   "cell_type": "code",
   "execution_count": 3,
   "metadata": {
    "collapsed": true
   },
   "outputs": [],
   "source": [
    "# word frequency\n",
    "vocab_frequencies = [vocab_count[word] for word in vocab_list]\n",
    "total_tokens = sum(vocab_frequencies)\n",
    "\n",
    "vocab_proportion = np.asarray(vocab_frequencies)/float(total_tokens)"
   ]
  },
  {
   "cell_type": "code",
   "execution_count": 4,
   "metadata": {},
   "outputs": [
    {
     "name": "stdout",
     "output_type": "stream",
     "text": [
      "downsampling when more frequent than 112.194\n",
      "[0.12029566 0.14235709 0.19685154 0.21047309 0.22202446 0.25428078\n",
      " 0.2629592  0.28225839 0.29667513 0.34049365] [1. 1. 1. 1. 1. 1. 1. 1. 1. 1.]\n"
     ]
    }
   ],
   "source": [
    "scaled_prob = np.zeros((len(vocab_frequencies)))\n",
    "\n",
    "threshold_count = 1e-3*total_tokens\n",
    "print(\"downsampling when more frequent than {}\".format(threshold_count))\n",
    "\n",
    "for i,v in enumerate(vocab_frequencies):\n",
    "    word_probability = (np.sqrt(v / threshold_count) + 1) * (threshold_count / v)\n",
    "    scaled_prob[i] = min(word_probability, 1)\n",
    "    \n",
    "print(scaled_prob[:10],scaled_prob[-10:])"
   ]
  },
  {
   "cell_type": "code",
   "execution_count": 7,
   "metadata": {},
   "outputs": [
    {
     "data": {
      "text/plain": [
       "<matplotlib.legend.Legend at 0x2ae05729ef0>"
      ]
     },
     "execution_count": 7,
     "metadata": {},
     "output_type": "execute_result"
    },
    {
     "data": {
      "image/png": "[encoded data removed]",
      "text/plain": [
       "<matplotlib.figure.Figure at 0x2ae036e0b70>"
      ]
     },
     "metadata": {},
     "output_type": "display_data"
    }
   ],
   "source": [
    "# This is the flattened curve\n",
    "\n",
    "downscaled_freqs = vocab_frequencies * scaled_prob\n",
    "downscaled_percents = downscaled_freqs / downscaled_freqs.sum()\n",
    "\n",
    "plt.plot(downscaled_percents, label=\"scaled\")\n",
    "plt.plot(vocab_proportion, label=\"raw\")\n",
    "plt.yscale('log')\n",
    "plt.xscale('log')\n",
    "plt.xlabel(\"Type Rank\")\n",
    "plt.ylabel(\"Token Probability\")\n",
    "plt.title(\"Scaling Unigram Probability for Negative Sampling\")\n",
    "plt.legend()"
   ]
  },
  {
   "cell_type": "markdown",
   "metadata": {},
   "source": [
    "## Read corpus to get context windows\n",
    "\n",
    "Objective is to match words with their context - this is \"self-supervised\" and no data is held out for validation."
   ]
  },
  {
   "cell_type": "code",
   "execution_count": 7,
   "metadata": {
    "collapsed": true
   },
   "outputs": [],
   "source": [
    "# Generator to read corpus one line at a time - don't put the whole thing in memory\n",
    "# Yield center word and window of context\n",
    "# THIS is where sampling happens for word2vec, effectively increasing window size\n",
    "def corpus_stepper(corp_file, context_size, probabilities, lookup):\n",
    "    context_needed = (context_size*2)+1\n",
    "    tokens = []\n",
    "    cf = open(corp_file, 'r')\n",
    "    while True: # loop through forever\n",
    "        if len(tokens) >=context_needed:\n",
    "            left_context = tokens[:context_size]\n",
    "            token = tokens[context_size]\n",
    "            right_context = tokens[context_size+1:context_needed]\n",
    "            yield (token,left_context+right_context)\n",
    "            tokens = tokens[1:]\n",
    "            #print(tokens)\n",
    "        else: # get another line, possibly another file\n",
    "            new_tokens = cf.readline()\n",
    "            if not new_tokens: #end of file\n",
    "                cf.close()\n",
    "                cf = open(corp_file, 'r')\n",
    "                new_tokens = cf.readline()\n",
    "            line_tokens = word_tokenize(new_tokens.strip().lower())\n",
    "            line_inds = [lookup[w] for w in line_tokens if w in lookup]\n",
    "            #print(line_inds,line_tokens)\n",
    "            # downsample using precomputed probabilities\n",
    "            rand_keep = np.random.random() # 0 - 1\n",
    "            line_inds = [ind for ind in line_inds if probabilities[ind]>=rand_keep]\n",
    "            tokens.extend(line_inds)"
   ]
  },
  {
   "cell_type": "code",
   "execution_count": 8,
   "metadata": {},
   "outputs": [
    {
     "name": "stdout",
     "output_type": "stream",
     "text": [
      ")\n",
      "['whale', '(', 'supplied', 'late', 'pale', 'coat', 'heart', 'body']\n",
      "pale\n",
      "['(', 'supplied', 'late', ')', 'coat', 'heart', 'body', 'brain']\n",
      "coat\n",
      "['supplied', 'late', ')', 'pale', 'heart', 'body', 'brain', 'see']\n",
      "heart\n",
      "['late', ')', 'pale', 'coat', 'body', 'brain', 'see', 'now']\n",
      "body\n",
      "[')', 'pale', 'coat', 'heart', 'brain', 'see', 'now', 'ever']\n",
      "brain\n",
      "['pale', 'coat', 'heart', 'body', 'see', 'now', 'ever', 'old']\n",
      "see\n",
      "['coat', 'heart', 'body', 'brain', 'now', 'ever', 'old', 'queer']\n",
      "now\n",
      "['heart', 'body', 'brain', 'see', 'ever', 'old', 'queer', 'handkerchief']\n",
      "ever\n",
      "['body', 'brain', 'see', 'now', 'old', 'queer', 'handkerchief', 'gay']\n",
      "old\n",
      "['brain', 'see', 'now', 'ever', 'queer', 'handkerchief', 'gay', 'known']\n"
     ]
    }
   ],
   "source": [
    "# instantiate our corpus stepper\n",
    "window = 4\n",
    "context_gen = corpus_stepper(txt_fn, context_size=window, probabilities=scaled_prob, lookup=lookup)\n",
    "for i in range(200): # get past some weirdness at beginning\n",
    "    next(context_gen)\n",
    "for i in range(10):\n",
    "    w,cxt = next(context_gen)\n",
    "    print(vocab_list[w])\n",
    "    print([vocab_list[c] for c in cxt])"
   ]
  },
  {
   "cell_type": "markdown",
   "metadata": {},
   "source": [
    "## Negative Sampling\n",
    "\n",
    "This model tries to assign the real context word the highest probability of the whole vocabulary. However, the vocabulary size is prohibitively large - here's it's a few thousand, but models trained on internet data have millions of vocabulary items.\n",
    "\n",
    "Instead, we use \"negative sampling.\" The real vocabulary item is the positive sample. The randomly chosen vocabulary items are negative samples. (They are random but have a sampling probability.)"
   ]
  },
  {
   "cell_type": "code",
   "execution_count": 9,
   "metadata": {},
   "outputs": [
    {
     "name": "stdout",
     "output_type": "stream",
     "text": [
      "[ 618  195   54  487 1460 1051   21  111   86   70]\n",
      "['wonder', 'whaling', 'like', 'com-', 'proceed', 'exactly', 'all', 'men', 'only', 'though']\n"
     ]
    }
   ],
   "source": [
    "#negative samples are just based on unigram frequency\n",
    "vocab_size = scaled_prob.shape[0]\n",
    "negative_samples = np.random.choice(vocab_size, size=(10,), p=downscaled_percents)\n",
    "print(negative_samples)\n",
    "print([vocab_list[i] for i in negative_samples])"
   ]
  },
  {
   "cell_type": "code",
   "execution_count": 10,
   "metadata": {
    "collapsed": true
   },
   "outputs": [],
   "source": [
    "# train using a generator so we can generate new negative samples every epoch (pass through the training data)\n",
    "# a larger corpus might also not fit into memory\n",
    "\n",
    "def train_generator(corpus_gen, unigram_probabilities, num_neg):\n",
    "    \n",
    "    while True:\n",
    "        word,contexts = next(corpus_gen)\n",
    "\n",
    "        X = np.zeros((len(contexts), 1), dtype=np.int32)\n",
    "        X += word # all of X is the same center word\n",
    "        y = np.zeros((len(contexts), num_neg+1), dtype=np.int32)\n",
    "        i = 0\n",
    "        for context in contexts:\n",
    "            y[i,0] = context # index 0 is the positive\n",
    "            y[i, 1:] = np.random.choice(vocab_size,\n",
    "                                size=num_neg,p=unigram_probabilities)\n",
    "            i += 1\n",
    "        if i == 0: # no contexts, don't feed empty array\n",
    "            continue\n",
    "        # truncate in case we lost some out-of-vocab contexts\n",
    "        X = X[:i] \n",
    "        y = y[:i]\n",
    "\n",
    "        target = np.zeros((i,1), dtype=np.int32) # this says \"index 0 of y is always correct\"\n",
    "        yield ([X,y], target)\n"
   ]
  },
  {
   "cell_type": "code",
   "execution_count": 11,
   "metadata": {
    "collapsed": true
   },
   "outputs": [],
   "source": [
    "# instantiate the generator\n",
    "tg = train_generator(context_gen, downscaled_percents, 10)"
   ]
  },
  {
   "cell_type": "code",
   "execution_count": 12,
   "metadata": {},
   "outputs": [
    {
     "name": "stdout",
     "output_type": "stream",
     "text": [
      "output of generator:\n",
      "[array([[460],\n",
      "       [460],\n",
      "       [460],\n",
      "       [460],\n",
      "       [460],\n",
      "       [460],\n",
      "       [460],\n",
      "       [460]], dtype=int32), array([[ 123,   92,  167, 1019,  379,   42, 1879,   14, 1270,   19,    3],\n",
      "       [  48,  112,    1,  479, 2367, 2053,   10,   11, 1144, 1545, 1049],\n",
      "       [ 147,  319,   31,   34,   39, 2156,  338,    2,   46,    9,   85],\n",
      "       [  75,   13,  254,  443,   12,  239, 1784, 1616,   99,  226,   18],\n",
      "       [1976,  647,    3,    1, 2224,   46,   13,  906,  123,   98,  695],\n",
      "       [1017,  148, 2274,  285,   67,   51,   44,    4,  638, 2093,   40],\n",
      "       [ 260,  171,  235,  275,   23,   74,  412,    6,   18,   60,    2],\n",
      "       [1126,    1, 2287,   38,    7, 1347,  167,  369,   39,   82,    0]],\n",
      "      dtype=int32)]\n",
      "\n",
      "center word: queer\n",
      "samples:\n",
      "postitive: see\n",
      "\tnegative: ['queequeg', 'should', 'dutch', 'indian', 'were', 'phantoms', 'he', 'roll', 'for', 'of']\n",
      "postitive: now\n",
      "\tnegative: ['could', 'the', 'live', 'perched', 'knee', 'his', \"'\", 'colour', 'spoke', 'lungs']\n",
      "postitive: ever\n",
      "\tnegative: ['get', 'on', 'there', 'me', 'calculating', 'thy', '.', 'which', 'that', 'any']\n",
      "postitive: old\n",
      "\tnegative: ['it', 'face', 'keep', 'i', 'called', 'news', 'lurked', \"n't\", 'full', 'as']\n",
      "postitive: handkerchief\n",
      "\tnegative: ['plain', 'of', 'the', 'position', 'which', 'it', 'nose', 'see', 'did', 'aboard']\n",
      "postitive: gay\n",
      "\tnegative: [':', 'advancing', 'thee', 'into', 'upon', 'what', 'and', 'nigh', 'arrive', 'have']\n",
      "postitive: known\n",
      "\tnegative: ['know', 'true', 'stood', '!', 'such', 'cape', 'to', 'as', 'man', '.']\n",
      "postitive: nations\n",
      "\tnegative: ['the', 'incidentally', 'had', 'in', 'outer', 'should', 'looking', 'me', 'down', ',']\n"
     ]
    }
   ],
   "source": [
    "inputs,target = next(tg)\n",
    "print(\"output of generator:\")\n",
    "print(inputs)\n",
    "print(\"\\ncenter word: {}\".format(vocab_list[inputs[0][0,0]]))\n",
    "print(\"samples:\")\n",
    "for word_list in inputs[1]:\n",
    "    print(\"postitive: {}\\n\\tnegative: {}\".format(vocab_list[word_list[0]],[vocab_list[i] for i in word_list[1:]]))"
   ]
  },
  {
   "cell_type": "markdown",
   "metadata": {},
   "source": [
    "## Define a model in Keras"
   ]
  },
  {
   "cell_type": "code",
   "execution_count": 13,
   "metadata": {
    "collapsed": true
   },
   "outputs": [],
   "source": [
    "#set some hyperparameters\n",
    "vocab_size=len(lookup)\n",
    "embed_size=64\n",
    "num_neg=10"
   ]
  },
  {
   "cell_type": "code",
   "execution_count": 14,
   "metadata": {},
   "outputs": [
    {
     "name": "stdout",
     "output_type": "stream",
     "text": [
      "__________________________________________________________________________________________________\n",
      "Layer (type)                    Output Shape         Param #     Connected to                     \n",
      "==================================================================================================\n",
      "word_input (InputLayer)         (None, 1)            0                                            \n",
      "__________________________________________________________________________________________________\n",
      "context_input (InputLayer)      (None, 11)           0                                            \n",
      "__________________________________________________________________________________________________\n",
      "word_vec (Embedding)            (None, 1, 64)        151744      word_input[0][0]                 \n",
      "__________________________________________________________________________________________________\n",
      "context_vec (Embedding)         (None, 11, 64)       151744      context_input[0][0]              \n",
      "__________________________________________________________________________________________________\n",
      "dot (Dot)                       (None, 1, 11)        0           word_vec[0][0]                   \n",
      "                                                                 context_vec[0][0]                \n",
      "__________________________________________________________________________________________________\n",
      "activation_1 (Activation)       (None, 1, 11)        0           dot[0][0]                        \n",
      "__________________________________________________________________________________________________\n",
      "reshape_1 (Reshape)             (None, 11)           0           activation_1[0][0]               \n",
      "==================================================================================================\n",
      "Total params: 303,488\n",
      "Trainable params: 303,488\n",
      "Non-trainable params: 0\n",
      "__________________________________________________________________________________________________\n"
     ]
    }
   ],
   "source": [
    "word_in = Input((1,), dtype=\"int32\", name=\"word_input\")\n",
    "# embedding for the input word\n",
    "word_embed = Embedding(vocab_size, embed_size, name=\"word_vec\")\n",
    "word = word_embed(word_in)\n",
    "\n",
    "context_in = Input((num_neg+1,), dtype=\"int32\", name=\"context_input\")\n",
    "# embedding for all the context words\n",
    "context_embed = Embedding(vocab_size, embed_size, name=\"context_vec\")\n",
    "context = context_embed(context_in)\n",
    "\n",
    "# a score of how well the context and word match\n",
    "dotp = Dot(axes=[2,2], name=\"dot\", normalize=True)([word,context])\n",
    "\n",
    "# scale the scores so they sum to 1. \"probability\" that each is the right word\n",
    "prediction = Activation(\"softmax\")(dotp)\n",
    "prediction = Reshape((num_neg+1,))(prediction)\n",
    "model = Model(inputs=[word_in,context_in], outputs=[prediction,])\n",
    "model.summary()"
   ]
  },
  {
   "cell_type": "code",
   "execution_count": 15,
   "metadata": {
    "collapsed": true
   },
   "outputs": [],
   "source": [
    "# categorical crossentropy means we're pitting all the of the outputs against each other\n",
    "# sparse means that our target is the index of the right answer, not the full dense matrix of probabilities\n",
    "model.compile(loss=\"sparse_categorical_crossentropy\", optimizer=\"adam\")"
   ]
  },
  {
   "cell_type": "code",
   "execution_count": 16,
   "metadata": {},
   "outputs": [
    {
     "name": "stdout",
     "output_type": "stream",
     "text": [
      "Epoch 1/10\n",
      "1000/1000 [==============================] - 9s 9ms/step - loss: 2.3708\n",
      "Epoch 2/10\n",
      "1000/1000 [==============================] - 12s 12ms/step - loss: 2.3147\n",
      "Epoch 3/10\n",
      "1000/1000 [==============================] - 12s 12ms/step - loss: 2.3603\n",
      "Epoch 4/10\n",
      "1000/1000 [==============================] - 11s 11ms/step - loss: 2.3699\n",
      "Epoch 5/10\n",
      "1000/1000 [==============================] - 11s 11ms/step - loss: 2.3874\n",
      "Epoch 6/10\n",
      "1000/1000 [==============================] - 11s 11ms/step - loss: 2.3844\n",
      "Epoch 7/10\n",
      "1000/1000 [==============================] - 11s 11ms/step - loss: 2.3316\n",
      "Epoch 8/10\n",
      "1000/1000 [==============================] - 11s 11ms/step - loss: 2.3293\n",
      "Epoch 9/10\n",
      "1000/1000 [==============================] - 11s 11ms/step - loss: 2.3136\n",
      "Epoch 10/10\n",
      "1000/1000 [==============================] - 11s 11ms/step - loss: 2.3432\n"
     ]
    },
    {
     "data": {
      "text/plain": [
       "<keras.callbacks.History at 0x1a3621bf28>"
      ]
     },
     "execution_count": 16,
     "metadata": {},
     "output_type": "execute_result"
    }
   ],
   "source": [
    "# every time we pass 1000 batches (ie words and contexts), call that an epoch\n",
    "\n",
    "model.fit_generator(tg, steps_per_epoch=1000, epochs=10)"
   ]
  },
  {
   "cell_type": "markdown",
   "metadata": {},
   "source": [
    "# Getting the word vectors out"
   ]
  },
  {
   "cell_type": "code",
   "execution_count": 17,
   "metadata": {},
   "outputs": [
    {
     "name": "stdout",
     "output_type": "stream",
     "text": [
      "['word_input', 'context_input', 'word_vec', 'context_vec', 'dot', 'activation_1', 'reshape_1']\n"
     ]
    }
   ],
   "source": [
    "print([l.name for l in model.layers])"
   ]
  },
  {
   "cell_type": "code",
   "execution_count": 18,
   "metadata": {},
   "outputs": [
    {
     "name": "stdout",
     "output_type": "stream",
     "text": [
      "1\n",
      "(2371, 64)\n"
     ]
    }
   ],
   "source": [
    "# it's easy to extract the weights from your model\n",
    "embedding_layer = model.get_layer('word_vec')\n",
    "embedding_weights = embedding_layer.get_weights()\n",
    "#keras returns weights in lists, even when there's only 1 in the layer\n",
    "print(len(embedding_weights))\n",
    "embedding_weights = embedding_weights[0]\n",
    "print(embedding_weights.shape)"
   ]
  },
  {
   "cell_type": "code",
   "execution_count": 19,
   "metadata": {},
   "outputs": [
    {
     "name": "stdout",
     "output_type": "stream",
     "text": [
      "or\n"
     ]
    }
   ],
   "source": [
    "# try cosine similarity - but the results might not be great with just a little training of a tiny corpus!\n",
    "\n",
    "target_word = \"whale\"\n",
    "target_ind = lookup[target_word]\n",
    "all_sims = cosine_similarity(embedding_weights, embedding_weights[target_ind].reshape((1,-1)))\n",
    "all_sims[target_ind] = 0 # otherwise similarity with self is max\n",
    "max_sim = np.argmax(all_sims)\n",
    "print(vocab_list[max_sim])"
   ]
  }
 ],
 "metadata": {
  "kernelspec": {
   "display_name": "Python 3",
   "language": "python",
   "name": "python3"
  },
  "language_info": {
   "codemirror_mode": {
    "name": "ipython",
    "version": 3
   },
   "file_extension": ".py",
   "mimetype": "text/x-python",
   "name": "python",
   "nbconvert_exporter": "python",
   "pygments_lexer": "ipython3",
   "version": "3.6.3"
  }
 },
 "nbformat": 4,
 "nbformat_minor": 2
}
